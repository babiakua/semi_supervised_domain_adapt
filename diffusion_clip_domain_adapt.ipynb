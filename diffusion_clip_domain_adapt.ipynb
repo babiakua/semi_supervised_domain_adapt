{
 "nbformat": 4,
 "nbformat_minor": 0,
 "metadata": {
  "colab": {
   "provenance": [],
   "gpuType": "T4"
  },
  "kernelspec": {
   "name": "python3",
   "display_name": "Python 3"
  },
  "language_info": {
   "name": "python"
  },
  "accelerator": "GPU",
  "widgets": {
   "application/vnd.jupyter.widget-state+json": {
    "59ab7732109f42ca9e61a820c8e35a8a": {
     "model_module": "@jupyter-widgets/controls",
     "model_name": "HBoxModel",
     "model_module_version": "1.5.0",
     "state": {
      "_dom_classes": [],
      "_model_module": "@jupyter-widgets/controls",
      "_model_module_version": "1.5.0",
      "_model_name": "HBoxModel",
      "_view_count": null,
      "_view_module": "@jupyter-widgets/controls",
      "_view_module_version": "1.5.0",
      "_view_name": "HBoxView",
      "box_style": "",
      "children": [
       "IPY_MODEL_67adea9add534d8e84461786d613abf7",
       "IPY_MODEL_765558ed1fa0446aa07cf27bf6d4a741",
       "IPY_MODEL_f81468f4726f485aa90ad2c57312c163"
      ],
      "layout": "IPY_MODEL_3ca3a1ed53244bb98cb8d617edb0fcb5"
     }
    },
    "67adea9add534d8e84461786d613abf7": {
     "model_module": "@jupyter-widgets/controls",
     "model_name": "HTMLModel",
     "model_module_version": "1.5.0",
     "state": {
      "_dom_classes": [],
      "_model_module": "@jupyter-widgets/controls",
      "_model_module_version": "1.5.0",
      "_model_name": "HTMLModel",
      "_view_count": null,
      "_view_module": "@jupyter-widgets/controls",
      "_view_module_version": "1.5.0",
      "_view_name": "HTMLView",
      "description": "",
      "description_tooltip": null,
      "layout": "IPY_MODEL_59948dc8040a4dc582281a2058f78995",
      "placeholder": "​",
      "style": "IPY_MODEL_2d2d75d3cc6c442f9aff07de7f54ba8e",
      "value": "100%"
     }
    },
    "765558ed1fa0446aa07cf27bf6d4a741": {
     "model_module": "@jupyter-widgets/controls",
     "model_name": "FloatProgressModel",
     "model_module_version": "1.5.0",
     "state": {
      "_dom_classes": [],
      "_model_module": "@jupyter-widgets/controls",
      "_model_module_version": "1.5.0",
      "_model_name": "FloatProgressModel",
      "_view_count": null,
      "_view_module": "@jupyter-widgets/controls",
      "_view_module_version": "1.5.0",
      "_view_name": "ProgressView",
      "bar_style": "success",
      "description": "",
      "description_tooltip": null,
      "layout": "IPY_MODEL_43a42ec613c04d8e911da2ddac9b5dd4",
      "max": 10,
      "min": 0,
      "orientation": "horizontal",
      "style": "IPY_MODEL_5fb42a2f2e3b4b8caf8f44cb39bee5f4",
      "value": 10
     }
    },
    "f81468f4726f485aa90ad2c57312c163": {
     "model_module": "@jupyter-widgets/controls",
     "model_name": "HTMLModel",
     "model_module_version": "1.5.0",
     "state": {
      "_dom_classes": [],
      "_model_module": "@jupyter-widgets/controls",
      "_model_module_version": "1.5.0",
      "_model_name": "HTMLModel",
      "_view_count": null,
      "_view_module": "@jupyter-widgets/controls",
      "_view_module_version": "1.5.0",
      "_view_name": "HTMLView",
      "description": "",
      "description_tooltip": null,
      "layout": "IPY_MODEL_c01f48d45d9a4d40b65ba5612e274292",
      "placeholder": "​",
      "style": "IPY_MODEL_b4c614d5b8854e8c9401b6eff4e50c8a",
      "value": " 10/10 [47:02&lt;00:00, 283.47s/it]"
     }
    },
    "3ca3a1ed53244bb98cb8d617edb0fcb5": {
     "model_module": "@jupyter-widgets/base",
     "model_name": "LayoutModel",
     "model_module_version": "1.2.0",
     "state": {
      "_model_module": "@jupyter-widgets/base",
      "_model_module_version": "1.2.0",
      "_model_name": "LayoutModel",
      "_view_count": null,
      "_view_module": "@jupyter-widgets/base",
      "_view_module_version": "1.2.0",
      "_view_name": "LayoutView",
      "align_content": null,
      "align_items": null,
      "align_self": null,
      "border": null,
      "bottom": null,
      "display": null,
      "flex": null,
      "flex_flow": null,
      "grid_area": null,
      "grid_auto_columns": null,
      "grid_auto_flow": null,
      "grid_auto_rows": null,
      "grid_column": null,
      "grid_gap": null,
      "grid_row": null,
      "grid_template_areas": null,
      "grid_template_columns": null,
      "grid_template_rows": null,
      "height": null,
      "justify_content": null,
      "justify_items": null,
      "left": null,
      "margin": null,
      "max_height": null,
      "max_width": null,
      "min_height": null,
      "min_width": null,
      "object_fit": null,
      "object_position": null,
      "order": null,
      "overflow": null,
      "overflow_x": null,
      "overflow_y": null,
      "padding": null,
      "right": null,
      "top": null,
      "visibility": null,
      "width": null
     }
    },
    "59948dc8040a4dc582281a2058f78995": {
     "model_module": "@jupyter-widgets/base",
     "model_name": "LayoutModel",
     "model_module_version": "1.2.0",
     "state": {
      "_model_module": "@jupyter-widgets/base",
      "_model_module_version": "1.2.0",
      "_model_name": "LayoutModel",
      "_view_count": null,
      "_view_module": "@jupyter-widgets/base",
      "_view_module_version": "1.2.0",
      "_view_name": "LayoutView",
      "align_content": null,
      "align_items": null,
      "align_self": null,
      "border": null,
      "bottom": null,
      "display": null,
      "flex": null,
      "flex_flow": null,
      "grid_area": null,
      "grid_auto_columns": null,
      "grid_auto_flow": null,
      "grid_auto_rows": null,
      "grid_column": null,
      "grid_gap": null,
      "grid_row": null,
      "grid_template_areas": null,
      "grid_template_columns": null,
      "grid_template_rows": null,
      "height": null,
      "justify_content": null,
      "justify_items": null,
      "left": null,
      "margin": null,
      "max_height": null,
      "max_width": null,
      "min_height": null,
      "min_width": null,
      "object_fit": null,
      "object_position": null,
      "order": null,
      "overflow": null,
      "overflow_x": null,
      "overflow_y": null,
      "padding": null,
      "right": null,
      "top": null,
      "visibility": null,
      "width": null
     }
    },
    "2d2d75d3cc6c442f9aff07de7f54ba8e": {
     "model_module": "@jupyter-widgets/controls",
     "model_name": "DescriptionStyleModel",
     "model_module_version": "1.5.0",
     "state": {
      "_model_module": "@jupyter-widgets/controls",
      "_model_module_version": "1.5.0",
      "_model_name": "DescriptionStyleModel",
      "_view_count": null,
      "_view_module": "@jupyter-widgets/base",
      "_view_module_version": "1.2.0",
      "_view_name": "StyleView",
      "description_width": ""
     }
    },
    "43a42ec613c04d8e911da2ddac9b5dd4": {
     "model_module": "@jupyter-widgets/base",
     "model_name": "LayoutModel",
     "model_module_version": "1.2.0",
     "state": {
      "_model_module": "@jupyter-widgets/base",
      "_model_module_version": "1.2.0",
      "_model_name": "LayoutModel",
      "_view_count": null,
      "_view_module": "@jupyter-widgets/base",
      "_view_module_version": "1.2.0",
      "_view_name": "LayoutView",
      "align_content": null,
      "align_items": null,
      "align_self": null,
      "border": null,
      "bottom": null,
      "display": null,
      "flex": null,
      "flex_flow": null,
      "grid_area": null,
      "grid_auto_columns": null,
      "grid_auto_flow": null,
      "grid_auto_rows": null,
      "grid_column": null,
      "grid_gap": null,
      "grid_row": null,
      "grid_template_areas": null,
      "grid_template_columns": null,
      "grid_template_rows": null,
      "height": null,
      "justify_content": null,
      "justify_items": null,
      "left": null,
      "margin": null,
      "max_height": null,
      "max_width": null,
      "min_height": null,
      "min_width": null,
      "object_fit": null,
      "object_position": null,
      "order": null,
      "overflow": null,
      "overflow_x": null,
      "overflow_y": null,
      "padding": null,
      "right": null,
      "top": null,
      "visibility": null,
      "width": null
     }
    },
    "5fb42a2f2e3b4b8caf8f44cb39bee5f4": {
     "model_module": "@jupyter-widgets/controls",
     "model_name": "ProgressStyleModel",
     "model_module_version": "1.5.0",
     "state": {
      "_model_module": "@jupyter-widgets/controls",
      "_model_module_version": "1.5.0",
      "_model_name": "ProgressStyleModel",
      "_view_count": null,
      "_view_module": "@jupyter-widgets/base",
      "_view_module_version": "1.2.0",
      "_view_name": "StyleView",
      "bar_color": null,
      "description_width": ""
     }
    },
    "c01f48d45d9a4d40b65ba5612e274292": {
     "model_module": "@jupyter-widgets/base",
     "model_name": "LayoutModel",
     "model_module_version": "1.2.0",
     "state": {
      "_model_module": "@jupyter-widgets/base",
      "_model_module_version": "1.2.0",
      "_model_name": "LayoutModel",
      "_view_count": null,
      "_view_module": "@jupyter-widgets/base",
      "_view_module_version": "1.2.0",
      "_view_name": "LayoutView",
      "align_content": null,
      "align_items": null,
      "align_self": null,
      "border": null,
      "bottom": null,
      "display": null,
      "flex": null,
      "flex_flow": null,
      "grid_area": null,
      "grid_auto_columns": null,
      "grid_auto_flow": null,
      "grid_auto_rows": null,
      "grid_column": null,
      "grid_gap": null,
      "grid_row": null,
      "grid_template_areas": null,
      "grid_template_columns": null,
      "grid_template_rows": null,
      "height": null,
      "justify_content": null,
      "justify_items": null,
      "left": null,
      "margin": null,
      "max_height": null,
      "max_width": null,
      "min_height": null,
      "min_width": null,
      "object_fit": null,
      "object_position": null,
      "order": null,
      "overflow": null,
      "overflow_x": null,
      "overflow_y": null,
      "padding": null,
      "right": null,
      "top": null,
      "visibility": null,
      "width": null
     }
    },
    "b4c614d5b8854e8c9401b6eff4e50c8a": {
     "model_module": "@jupyter-widgets/controls",
     "model_name": "DescriptionStyleModel",
     "model_module_version": "1.5.0",
     "state": {
      "_model_module": "@jupyter-widgets/controls",
      "_model_module_version": "1.5.0",
      "_model_name": "DescriptionStyleModel",
      "_view_count": null,
      "_view_module": "@jupyter-widgets/base",
      "_view_module_version": "1.2.0",
      "_view_name": "StyleView",
      "description_width": ""
     }
    },
    "6734170b2d0a4265bb94084476cd5ed8": {
     "model_module": "@jupyter-widgets/controls",
     "model_name": "HBoxModel",
     "model_module_version": "1.5.0",
     "state": {
      "_dom_classes": [],
      "_model_module": "@jupyter-widgets/controls",
      "_model_module_version": "1.5.0",
      "_model_name": "HBoxModel",
      "_view_count": null,
      "_view_module": "@jupyter-widgets/controls",
      "_view_module_version": "1.5.0",
      "_view_name": "HBoxView",
      "box_style": "",
      "children": [
       "IPY_MODEL_a4bdcf8011744355bbb51e54920d540b",
       "IPY_MODEL_9f03b819e9d24ccc8be7e2477546a83f",
       "IPY_MODEL_15aee31d3cbf40e39312328c13851c15"
      ],
      "layout": "IPY_MODEL_4e5c84a1dfd2425d87e042ab041aaabc"
     }
    },
    "a4bdcf8011744355bbb51e54920d540b": {
     "model_module": "@jupyter-widgets/controls",
     "model_name": "HTMLModel",
     "model_module_version": "1.5.0",
     "state": {
      "_dom_classes": [],
      "_model_module": "@jupyter-widgets/controls",
      "_model_module_version": "1.5.0",
      "_model_name": "HTMLModel",
      "_view_count": null,
      "_view_module": "@jupyter-widgets/controls",
      "_view_module_version": "1.5.0",
      "_view_name": "HTMLView",
      "description": "",
      "description_tooltip": null,
      "layout": "IPY_MODEL_1ec8bb25d72c4009a227b6ba956b858a",
      "placeholder": "​",
      "style": "IPY_MODEL_dfcbd27850ef4081abe5b6b6f51881d2",
      "value": "100%"
     }
    },
    "9f03b819e9d24ccc8be7e2477546a83f": {
     "model_module": "@jupyter-widgets/controls",
     "model_name": "FloatProgressModel",
     "model_module_version": "1.5.0",
     "state": {
      "_dom_classes": [],
      "_model_module": "@jupyter-widgets/controls",
      "_model_module_version": "1.5.0",
      "_model_name": "FloatProgressModel",
      "_view_count": null,
      "_view_module": "@jupyter-widgets/controls",
      "_view_module_version": "1.5.0",
      "_view_name": "ProgressView",
      "bar_style": "success",
      "description": "",
      "description_tooltip": null,
      "layout": "IPY_MODEL_f17f7ca716764a9f8f68fb8daf08c393",
      "max": 10,
      "min": 0,
      "orientation": "horizontal",
      "style": "IPY_MODEL_aadad21f5f4349bfae97586f0d7c9475",
      "value": 10
     }
    },
    "15aee31d3cbf40e39312328c13851c15": {
     "model_module": "@jupyter-widgets/controls",
     "model_name": "HTMLModel",
     "model_module_version": "1.5.0",
     "state": {
      "_dom_classes": [],
      "_model_module": "@jupyter-widgets/controls",
      "_model_module_version": "1.5.0",
      "_model_name": "HTMLModel",
      "_view_count": null,
      "_view_module": "@jupyter-widgets/controls",
      "_view_module_version": "1.5.0",
      "_view_name": "HTMLView",
      "description": "",
      "description_tooltip": null,
      "layout": "IPY_MODEL_4e743f17c2d44233bf54294e0a6b4be4",
      "placeholder": "​",
      "style": "IPY_MODEL_4021bf5ddc3d4e2992e1dfd535b9d754",
      "value": " 10/10 [49:32&lt;00:00, 281.61s/it]"
     }
    },
    "4e5c84a1dfd2425d87e042ab041aaabc": {
     "model_module": "@jupyter-widgets/base",
     "model_name": "LayoutModel",
     "model_module_version": "1.2.0",
     "state": {
      "_model_module": "@jupyter-widgets/base",
      "_model_module_version": "1.2.0",
      "_model_name": "LayoutModel",
      "_view_count": null,
      "_view_module": "@jupyter-widgets/base",
      "_view_module_version": "1.2.0",
      "_view_name": "LayoutView",
      "align_content": null,
      "align_items": null,
      "align_self": null,
      "border": null,
      "bottom": null,
      "display": null,
      "flex": null,
      "flex_flow": null,
      "grid_area": null,
      "grid_auto_columns": null,
      "grid_auto_flow": null,
      "grid_auto_rows": null,
      "grid_column": null,
      "grid_gap": null,
      "grid_row": null,
      "grid_template_areas": null,
      "grid_template_columns": null,
      "grid_template_rows": null,
      "height": null,
      "justify_content": null,
      "justify_items": null,
      "left": null,
      "margin": null,
      "max_height": null,
      "max_width": null,
      "min_height": null,
      "min_width": null,
      "object_fit": null,
      "object_position": null,
      "order": null,
      "overflow": null,
      "overflow_x": null,
      "overflow_y": null,
      "padding": null,
      "right": null,
      "top": null,
      "visibility": null,
      "width": null
     }
    },
    "1ec8bb25d72c4009a227b6ba956b858a": {
     "model_module": "@jupyter-widgets/base",
     "model_name": "LayoutModel",
     "model_module_version": "1.2.0",
     "state": {
      "_model_module": "@jupyter-widgets/base",
      "_model_module_version": "1.2.0",
      "_model_name": "LayoutModel",
      "_view_count": null,
      "_view_module": "@jupyter-widgets/base",
      "_view_module_version": "1.2.0",
      "_view_name": "LayoutView",
      "align_content": null,
      "align_items": null,
      "align_self": null,
      "border": null,
      "bottom": null,
      "display": null,
      "flex": null,
      "flex_flow": null,
      "grid_area": null,
      "grid_auto_columns": null,
      "grid_auto_flow": null,
      "grid_auto_rows": null,
      "grid_column": null,
      "grid_gap": null,
      "grid_row": null,
      "grid_template_areas": null,
      "grid_template_columns": null,
      "grid_template_rows": null,
      "height": null,
      "justify_content": null,
      "justify_items": null,
      "left": null,
      "margin": null,
      "max_height": null,
      "max_width": null,
      "min_height": null,
      "min_width": null,
      "object_fit": null,
      "object_position": null,
      "order": null,
      "overflow": null,
      "overflow_x": null,
      "overflow_y": null,
      "padding": null,
      "right": null,
      "top": null,
      "visibility": null,
      "width": null
     }
    },
    "dfcbd27850ef4081abe5b6b6f51881d2": {
     "model_module": "@jupyter-widgets/controls",
     "model_name": "DescriptionStyleModel",
     "model_module_version": "1.5.0",
     "state": {
      "_model_module": "@jupyter-widgets/controls",
      "_model_module_version": "1.5.0",
      "_model_name": "DescriptionStyleModel",
      "_view_count": null,
      "_view_module": "@jupyter-widgets/base",
      "_view_module_version": "1.2.0",
      "_view_name": "StyleView",
      "description_width": ""
     }
    },
    "f17f7ca716764a9f8f68fb8daf08c393": {
     "model_module": "@jupyter-widgets/base",
     "model_name": "LayoutModel",
     "model_module_version": "1.2.0",
     "state": {
      "_model_module": "@jupyter-widgets/base",
      "_model_module_version": "1.2.0",
      "_model_name": "LayoutModel",
      "_view_count": null,
      "_view_module": "@jupyter-widgets/base",
      "_view_module_version": "1.2.0",
      "_view_name": "LayoutView",
      "align_content": null,
      "align_items": null,
      "align_self": null,
      "border": null,
      "bottom": null,
      "display": null,
      "flex": null,
      "flex_flow": null,
      "grid_area": null,
      "grid_auto_columns": null,
      "grid_auto_flow": null,
      "grid_auto_rows": null,
      "grid_column": null,
      "grid_gap": null,
      "grid_row": null,
      "grid_template_areas": null,
      "grid_template_columns": null,
      "grid_template_rows": null,
      "height": null,
      "justify_content": null,
      "justify_items": null,
      "left": null,
      "margin": null,
      "max_height": null,
      "max_width": null,
      "min_height": null,
      "min_width": null,
      "object_fit": null,
      "object_position": null,
      "order": null,
      "overflow": null,
      "overflow_x": null,
      "overflow_y": null,
      "padding": null,
      "right": null,
      "top": null,
      "visibility": null,
      "width": null
     }
    },
    "aadad21f5f4349bfae97586f0d7c9475": {
     "model_module": "@jupyter-widgets/controls",
     "model_name": "ProgressStyleModel",
     "model_module_version": "1.5.0",
     "state": {
      "_model_module": "@jupyter-widgets/controls",
      "_model_module_version": "1.5.0",
      "_model_name": "ProgressStyleModel",
      "_view_count": null,
      "_view_module": "@jupyter-widgets/base",
      "_view_module_version": "1.2.0",
      "_view_name": "StyleView",
      "bar_color": null,
      "description_width": ""
     }
    },
    "4e743f17c2d44233bf54294e0a6b4be4": {
     "model_module": "@jupyter-widgets/base",
     "model_name": "LayoutModel",
     "model_module_version": "1.2.0",
     "state": {
      "_model_module": "@jupyter-widgets/base",
      "_model_module_version": "1.2.0",
      "_model_name": "LayoutModel",
      "_view_count": null,
      "_view_module": "@jupyter-widgets/base",
      "_view_module_version": "1.2.0",
      "_view_name": "LayoutView",
      "align_content": null,
      "align_items": null,
      "align_self": null,
      "border": null,
      "bottom": null,
      "display": null,
      "flex": null,
      "flex_flow": null,
      "grid_area": null,
      "grid_auto_columns": null,
      "grid_auto_flow": null,
      "grid_auto_rows": null,
      "grid_column": null,
      "grid_gap": null,
      "grid_row": null,
      "grid_template_areas": null,
      "grid_template_columns": null,
      "grid_template_rows": null,
      "height": null,
      "justify_content": null,
      "justify_items": null,
      "left": null,
      "margin": null,
      "max_height": null,
      "max_width": null,
      "min_height": null,
      "min_width": null,
      "object_fit": null,
      "object_position": null,
      "order": null,
      "overflow": null,
      "overflow_x": null,
      "overflow_y": null,
      "padding": null,
      "right": null,
      "top": null,
      "visibility": null,
      "width": null
     }
    },
    "4021bf5ddc3d4e2992e1dfd535b9d754": {
     "model_module": "@jupyter-widgets/controls",
     "model_name": "DescriptionStyleModel",
     "model_module_version": "1.5.0",
     "state": {
      "_model_module": "@jupyter-widgets/controls",
      "_model_module_version": "1.5.0",
      "_model_name": "DescriptionStyleModel",
      "_view_count": null,
      "_view_module": "@jupyter-widgets/base",
      "_view_module_version": "1.2.0",
      "_view_name": "StyleView",
      "description_width": ""
     }
    }
   }
  }
 },
 "cells": [
  {
   "cell_type": "code",
   "execution_count": 1,
   "metadata": {
    "id": "-kwH_eSjdZxS"
   },
   "outputs": [],
   "source": [
    "import torchvision\n",
    "import tqdm\n",
    "import PIL.Image\n",
    "import os\n",
    "import torch.nn.functional as F\n",
    "from tqdm import trange\n",
    "import pandas as pd\n",
    "import numpy as np\n",
    "import torch\n",
    "import torch.nn as nn\n",
    "import torch.optim as optim\n",
    "from torch.utils.data import DataLoader, Dataset\n",
    "from torchvision import transforms, datasets\n",
    "from tqdm.auto import tqdm\n",
    "import matplotlib.pyplot as plt\n",
    "\n",
    "assert torch.cuda.is_available(), \"Should use GPU-enabled colab\"\n",
    "device = torch.device('cuda:0')  # we will train with CUDA!"
   ]
  },
  {
   "cell_type": "code",
   "source": [
    "class CelebA_dataset(Dataset):\n",
    "    def __init__(self, root_dir, mode='train',\n",
    "                 transform=torchvision.transforms.Compose([torchvision.transforms.ToTensor(),\n",
    "                                                           torchvision.transforms.Normalize([0.5, 0.5, 0.5], [0.5, 0.5, 0.5])])):\n",
    "        self.root_dir = root_dir\n",
    "        self.path_to_imgs = os.path.join(self.root_dir, mode)\n",
    "        self.transform = transform\n",
    "        self.image_files = sorted(os.listdir(self.path_to_imgs))\n",
    "\n",
    "        self.labels = np.load(os.path.join(self.root_dir, f'labels_{mode}.npy'))\n",
    "\n",
    "    def __len__(self):\n",
    "        return len(self.image_files)\n",
    "\n",
    "\n",
    "    def __getitem__(self, idx):\n",
    "        img_name = os.path.join(self.path_to_imgs, self.image_files[idx])\n",
    "        image = PIL.Image.open(img_name)\n",
    "        image = self.transform(image)\n",
    "        label = self.labels[idx]\n",
    "        return image, label"
   ],
   "metadata": {
    "id": "uyaFAyd_diLT"
   },
   "execution_count": 2,
   "outputs": []
  },
  {
   "cell_type": "code",
   "source": [
    "data_train_base = CelebA_dataset('drive/MyDrive/celeba_domain_base/', 'train')\n",
    "data_train_sketch = CelebA_dataset('drive/MyDrive/celeba_domain_train_and_test_sketched/', 'train')\n",
    "data_test_base = CelebA_dataset('drive/MyDrive/celeba_domain_base/', 'test')\n",
    "data_test_sketch = CelebA_dataset('drive/MyDrive/celeba_domain_train_and_test_sketched/', 'test')"
   ],
   "metadata": {
    "id": "Zgh5K6aNREHv"
   },
   "execution_count": 3,
   "outputs": []
  },
  {
   "cell_type": "code",
   "source": [
    "class BinaryClassifierCNN(nn.Module):\n",
    "    def __init__(self):\n",
    "        super(BinaryClassifierCNN, self).__init__()\n",
    "        self.conv1 = nn.Conv2d(3, 32, kernel_size=3, stride=1, padding=1)\n",
    "        self.conv2 = nn.Conv2d(32, 64, kernel_size=3, stride=1, padding=1)\n",
    "        self.conv3 = nn.Conv2d(64, 128, kernel_size=3, stride=1, padding=1)\n",
    "        self.pool = nn.MaxPool2d(kernel_size=2, stride=2)\n",
    "        self.fc1 = nn.Linear(128 * 32 * 32, 512)  # Adjust according to the output of the last conv layer\n",
    "        self.fc2 = nn.Linear(512, 1)\n",
    "\n",
    "    def forward(self, x):\n",
    "        x = self.pool(nn.functional.relu(self.conv1(x)))\n",
    "        x = self.pool(nn.functional.relu(self.conv2(x)))\n",
    "        x = self.pool(nn.functional.relu(self.conv3(x)))\n",
    "        x = x.view(x.size(0), -1)  # Flatten the tensor\n",
    "        x = nn.functional.relu(self.fc1(x))\n",
    "        x = torch.sigmoid(self.fc2(x))  # Using sigmoid for binary classification\n",
    "        return x"
   ],
   "metadata": {
    "id": "2bfTTU7QYPjJ"
   },
   "execution_count": 4,
   "outputs": []
  },
  {
   "cell_type": "code",
   "source": [
    "train_loader_base = DataLoader(data_train_base, batch_size=32, shuffle=False)\n",
    "train_loader_sketch = DataLoader(data_train_sketch, batch_size=32, shuffle=False)\n",
    "test_loader_base = DataLoader(data_test_base, batch_size=32, shuffle=False)\n",
    "test_loader_sketch = DataLoader(data_test_sketch, batch_size=32, shuffle=False)"
   ],
   "metadata": {
    "id": "zIWyHZcXYYxl"
   },
   "execution_count": 5,
   "outputs": []
  },
  {
   "cell_type": "markdown",
   "source": [
    "### Train on base domain"
   ],
   "metadata": {
    "id": "yUHuqF1GpwjJ"
   }
  },
  {
   "cell_type": "code",
   "source": [
    "model = BinaryClassifierCNN()\n",
    "criterion = nn.BCELoss()  # Binary Cross Entropy Loss\n",
    "optimizer = optim.Adam(model.parameters(), lr=0.001)"
   ],
   "metadata": {
    "id": "ZH5T8gSEYpaJ"
   },
   "execution_count": 79,
   "outputs": []
  },
  {
   "cell_type": "code",
   "source": [
    "# Variables to store performance metrics\n",
    "train_losses = []\n",
    "test_losses_base = []\n",
    "test_losses_sketch = []\n",
    "train_accuracies = []\n",
    "test_accuracies_base = []\n",
    "test_accuracies_sketch = []\n",
    "\n",
    "# Training and Evaluation Loop\n",
    "num_epochs = 10\n",
    "for epoch in tqdm(range(num_epochs)):\n",
    "    # Training\n",
    "    model.train()\n",
    "    train_loss = 0\n",
    "    correct_train = 0\n",
    "    total_train = 0\n",
    "    for images, labels in train_loader_base:\n",
    "        labels = labels.float()\n",
    "        optimizer.zero_grad()\n",
    "        outputs = model(images).squeeze()\n",
    "        loss = criterion(outputs, labels)\n",
    "        train_loss += loss.item()\n",
    "        predicted = outputs.round()\n",
    "        total_train += labels.size(0)\n",
    "        correct_train += (predicted == labels).sum().item()\n",
    "        loss.backward()\n",
    "        optimizer.step()\n",
    "    train_losses.append(train_loss / len(train_loader_base))\n",
    "    train_accuracies.append(100 * correct_train / total_train)\n",
    "\n",
    "    # Testing\n",
    "    model.eval()\n",
    "    test_loss = 0\n",
    "    correct_test = 0\n",
    "    total_test = 0\n",
    "    with torch.no_grad():\n",
    "        for images, labels in test_loader_base:\n",
    "            labels = labels.float()\n",
    "            outputs = model(images).squeeze()\n",
    "            loss = criterion(outputs, labels)\n",
    "            test_loss += loss.item()\n",
    "            predicted = outputs.round()\n",
    "            total_test += labels.size(0)\n",
    "            correct_test += (predicted == labels).sum().item()\n",
    "    test_losses_base.append(test_loss / len(test_loader_base))\n",
    "    test_accuracies_base.append(100 * correct_test / total_test)\n",
    "\n",
    "    model.eval()\n",
    "    test_loss = 0\n",
    "    correct_test = 0\n",
    "    total_test = 0\n",
    "    with torch.no_grad():\n",
    "        for images, labels in test_loader_sketch:\n",
    "            labels = labels.float()\n",
    "            outputs = model(images).squeeze()\n",
    "            loss = criterion(outputs, labels)\n",
    "            test_loss += loss.item()\n",
    "            predicted = outputs.round()\n",
    "            total_test += labels.size(0)\n",
    "            correct_test += (predicted == labels).sum().item()\n",
    "    test_losses_sketch.append(test_loss / len(test_loader_sketch))\n",
    "    test_accuracies_sketch.append(100 * correct_test / total_test)\n",
    "\n",
    "    print(f\"Epoch: {epoch+1}, Train Acc {train_accuracies[-1]}, Test Acc Base {test_accuracies_base[-1]}, Test Acc Sketch {test_accuracies_sketch[-1]}\")"
   ],
   "metadata": {
    "id": "FEDtVHVAZI1R",
    "colab": {
     "base_uri": "https://localhost:8080/",
     "height": 228,
     "referenced_widgets": [
      "59ab7732109f42ca9e61a820c8e35a8a",
      "67adea9add534d8e84461786d613abf7",
      "765558ed1fa0446aa07cf27bf6d4a741",
      "f81468f4726f485aa90ad2c57312c163",
      "3ca3a1ed53244bb98cb8d617edb0fcb5",
      "59948dc8040a4dc582281a2058f78995",
      "2d2d75d3cc6c442f9aff07de7f54ba8e",
      "43a42ec613c04d8e911da2ddac9b5dd4",
      "5fb42a2f2e3b4b8caf8f44cb39bee5f4",
      "c01f48d45d9a4d40b65ba5612e274292",
      "b4c614d5b8854e8c9401b6eff4e50c8a"
     ]
    },
    "outputId": "22fdad70-9612-4b24-88a3-f2112677c3e0"
   },
   "execution_count": 81,
   "outputs": [
    {
     "output_type": "display_data",
     "data": {
      "text/plain": [
       "  0%|          | 0/10 [00:00<?, ?it/s]"
      ],
      "application/vnd.jupyter.widget-view+json": {
       "version_major": 2,
       "version_minor": 0,
       "model_id": "59ab7732109f42ca9e61a820c8e35a8a"
      }
     },
     "metadata": {}
    },
    {
     "output_type": "stream",
     "name": "stdout",
     "text": [
      "Epoch: 1, Train Acc 62.833333333333336, Test Acc Base 75.33333333333333, Test Acc Sketch 67.0\n",
      "Epoch: 2, Train Acc 81.08333333333333, Test Acc Base 73.33333333333333, Test Acc Sketch 71.33333333333333\n",
      "Epoch: 3, Train Acc 87.83333333333333, Test Acc Base 88.66666666666667, Test Acc Sketch 59.0\n",
      "Epoch: 4, Train Acc 92.33333333333333, Test Acc Base 87.66666666666667, Test Acc Sketch 57.666666666666664\n",
      "Epoch: 5, Train Acc 94.41666666666667, Test Acc Base 88.66666666666667, Test Acc Sketch 60.666666666666664\n",
      "Epoch: 6, Train Acc 98.16666666666667, Test Acc Base 88.0, Test Acc Sketch 62.333333333333336\n",
      "Epoch: 7, Train Acc 98.58333333333333, Test Acc Base 89.0, Test Acc Sketch 53.666666666666664\n",
      "Epoch: 8, Train Acc 99.33333333333333, Test Acc Base 90.33333333333333, Test Acc Sketch 55.0\n",
      "Epoch: 9, Train Acc 100.0, Test Acc Base 89.33333333333333, Test Acc Sketch 55.0\n",
      "Epoch: 10, Train Acc 99.91666666666667, Test Acc Base 89.0, Test Acc Sketch 59.333333333333336\n"
     ]
    }
   ]
  },
  {
   "cell_type": "code",
   "source": [
    "# Plotting the training and test curves\n",
    "plt.figure(figsize=(12, 5))\n",
    "plt.subplot(1, 2, 1)\n",
    "plt.plot(train_losses, label='Train Loss')\n",
    "plt.plot(test_losses_base, label='Test Loss (Original)')\n",
    "plt.plot(test_losses_sketch, label='Test Loss (Sketch)')\n",
    "plt.title('Loss vs. Epochs')\n",
    "plt.xlabel('Epochs')\n",
    "plt.ylabel('Loss')\n",
    "plt.legend()\n",
    "\n",
    "plt.subplot(1, 2, 2)\n",
    "plt.plot(train_accuracies, label='Train Accuracy')\n",
    "plt.plot(test_accuracies_base, label='Test Accuracy (Original)')\n",
    "plt.plot(test_accuracies_sketch, label='Test Accuracy (Sketch)')\n",
    "plt.title('Accuracy vs. Epochs')\n",
    "plt.xlabel('Epochs')\n",
    "plt.ylabel('Accuracy')\n",
    "plt.legend()\n",
    "\n",
    "plt.show()"
   ],
   "metadata": {
    "colab": {
     "base_uri": "https://localhost:8080/",
     "height": 487
    },
    "id": "iiTiBIHrCMbK",
    "outputId": "22a4367e-5b6e-4abb-e056-df88051c6290"
   },
   "execution_count": 82,
   "outputs": [
    {
     "output_type": "display_data",
     "data": {
      "text/plain": [
       "<Figure size 1200x500 with 2 Axes>"
      ],
      "image/png": "[encoded data removed]"
     },
     "metadata": {}
    }
   ]
  },
  {
   "cell_type": "markdown",
   "source": [
    "### Train on shifted domain"
   ],
   "metadata": {
    "id": "QEyHYHfMpnz3"
   }
  },
  {
   "cell_type": "code",
   "source": [
    "model = BinaryClassifierCNN()\n",
    "criterion = nn.BCELoss()  # Binary Cross Entropy Loss\n",
    "optimizer = optim.Adam(model.parameters(), lr=0.001)"
   ],
   "metadata": {
    "id": "Ju425Gk9p24K"
   },
   "execution_count": 6,
   "outputs": []
  },
  {
   "cell_type": "code",
   "source": [
    "# Variables to store performance metrics\n",
    "train_losses_sketch = []\n",
    "test_losses_base = []\n",
    "test_losses_sketch = []\n",
    "train_accuracies_sketch = []\n",
    "test_accuracies_base = []\n",
    "test_accuracies_sketch = []\n",
    "\n",
    "# Training and Evaluation Loop\n",
    "num_epochs = 10\n",
    "for epoch in tqdm(range(num_epochs)):\n",
    "    # Training\n",
    "    model.train()\n",
    "    train_loss = 0\n",
    "    correct_train = 0\n",
    "    total_train = 0\n",
    "    for images, labels in train_loader_sketch:\n",
    "        labels = labels.float()\n",
    "        optimizer.zero_grad()\n",
    "        outputs = model(images).squeeze()\n",
    "        loss = criterion(outputs, labels)\n",
    "        train_loss += loss.item()\n",
    "        predicted = outputs.round()\n",
    "        total_train += labels.size(0)\n",
    "        correct_train += (predicted == labels).sum().item()\n",
    "        loss.backward()\n",
    "        optimizer.step()\n",
    "    train_losses_sketch.append(train_loss / len(train_loader_sketch))\n",
    "    train_accuracies_sketch.append(100 * correct_train / total_train)\n",
    "\n",
    "    # Testing\n",
    "    model.eval()\n",
    "    test_loss = 0\n",
    "    correct_test = 0\n",
    "    total_test = 0\n",
    "    with torch.no_grad():\n",
    "        for images, labels in test_loader_base:\n",
    "            labels = labels.float()\n",
    "            outputs = model(images).squeeze()\n",
    "            loss = criterion(outputs, labels)\n",
    "            test_loss += loss.item()\n",
    "            predicted = outputs.round()\n",
    "            total_test += labels.size(0)\n",
    "            correct_test += (predicted == labels).sum().item()\n",
    "    test_losses_base.append(test_loss / len(test_loader_base))\n",
    "    test_accuracies_base.append(100 * correct_test / total_test)\n",
    "\n",
    "    model.eval()\n",
    "    test_loss = 0\n",
    "    correct_test = 0\n",
    "    total_test = 0\n",
    "    with torch.no_grad():\n",
    "        for images, labels in test_loader_sketch:\n",
    "            labels = labels.float()\n",
    "            outputs = model(images).squeeze()\n",
    "            loss = criterion(outputs, labels)\n",
    "            test_loss += loss.item()\n",
    "            predicted = outputs.round()\n",
    "            total_test += labels.size(0)\n",
    "            correct_test += (predicted == labels).sum().item()\n",
    "    test_losses_sketch.append(test_loss / len(test_loader_sketch))\n",
    "    test_accuracies_sketch.append(100 * correct_test / total_test)\n",
    "\n",
    "    print(f\"Epoch: {epoch+1}, Train Acc {train_accuracies_sketch[-1]}, Test Acc Base {test_accuracies_base[-1]}, Test Acc Sketch {test_accuracies_sketch[-1]}\")"
   ],
   "metadata": {
    "colab": {
     "base_uri": "https://localhost:8080/",
     "height": 228,
     "referenced_widgets": [
      "6734170b2d0a4265bb94084476cd5ed8",
      "a4bdcf8011744355bbb51e54920d540b",
      "9f03b819e9d24ccc8be7e2477546a83f",
      "15aee31d3cbf40e39312328c13851c15",
      "4e5c84a1dfd2425d87e042ab041aaabc",
      "1ec8bb25d72c4009a227b6ba956b858a",
      "dfcbd27850ef4081abe5b6b6f51881d2",
      "f17f7ca716764a9f8f68fb8daf08c393",
      "aadad21f5f4349bfae97586f0d7c9475",
      "4e743f17c2d44233bf54294e0a6b4be4",
      "4021bf5ddc3d4e2992e1dfd535b9d754"
     ]
    },
    "id": "bcIXPIAVpHTk",
    "outputId": "6d66f244-7c67-4b04-a447-9a423c08a4d3"
   },
   "execution_count": 7,
   "outputs": [
    {
     "output_type": "display_data",
     "data": {
      "text/plain": [
       "  0%|          | 0/10 [00:00<?, ?it/s]"
      ],
      "application/vnd.jupyter.widget-view+json": {
       "version_major": 2,
       "version_minor": 0,
       "model_id": "6734170b2d0a4265bb94084476cd5ed8"
      }
     },
     "metadata": {}
    },
    {
     "output_type": "stream",
     "name": "stdout",
     "text": [
      "Epoch: 1, Train Acc 59.083333333333336, Test Acc Base 66.33333333333333, Test Acc Sketch 68.66666666666667\n",
      "Epoch: 2, Train Acc 72.66666666666667, Test Acc Base 73.66666666666667, Test Acc Sketch 77.33333333333333\n",
      "Epoch: 3, Train Acc 80.25, Test Acc Base 74.66666666666667, Test Acc Sketch 81.0\n",
      "Epoch: 4, Train Acc 84.5, Test Acc Base 73.0, Test Acc Sketch 82.33333333333333\n",
      "Epoch: 5, Train Acc 87.66666666666667, Test Acc Base 75.0, Test Acc Sketch 86.0\n",
      "Epoch: 6, Train Acc 92.33333333333333, Test Acc Base 71.33333333333333, Test Acc Sketch 86.0\n",
      "Epoch: 7, Train Acc 92.58333333333333, Test Acc Base 73.33333333333333, Test Acc Sketch 87.0\n",
      "Epoch: 8, Train Acc 93.16666666666667, Test Acc Base 78.66666666666667, Test Acc Sketch 85.66666666666667\n",
      "Epoch: 9, Train Acc 96.58333333333333, Test Acc Base 72.0, Test Acc Sketch 88.0\n",
      "Epoch: 10, Train Acc 97.08333333333333, Test Acc Base 71.0, Test Acc Sketch 87.0\n"
     ]
    }
   ]
  },
  {
   "cell_type": "code",
   "source": [
    "# Plotting the training and test curves\n",
    "plt.figure(figsize=(12, 5))\n",
    "plt.subplot(1, 2, 1)\n",
    "plt.plot(train_losses_sketch, label='Train Loss (Sketch)')\n",
    "plt.plot(test_losses_base, label='Test Loss (Original)')\n",
    "plt.plot(test_losses_sketch, label='Test Loss (Sketch)')\n",
    "plt.title('Loss vs. Epochs')\n",
    "plt.xlabel('Epochs')\n",
    "plt.ylabel('Loss')\n",
    "plt.legend()\n",
    "\n",
    "plt.subplot(1, 2, 2)\n",
    "plt.plot(train_accuracies_sketch, label='Train Accuracy (Sketch)')\n",
    "plt.plot(test_accuracies_base, label='Test Accuracy (Original)')\n",
    "plt.plot(test_accuracies_sketch, label='Test Accuracy (Sketch)')\n",
    "plt.title('Accuracy vs. Epochs')\n",
    "plt.xlabel('Epochs')\n",
    "plt.ylabel('Accuracy')\n",
    "plt.legend()\n",
    "\n",
    "plt.show()"
   ],
   "metadata": {
    "colab": {
     "base_uri": "https://localhost:8080/",
     "height": 487
    },
    "id": "vk7H5wP_pHQ6",
    "outputId": "45d4969d-0199-4ec0-f793-e63c1b07c34c"
   },
   "execution_count": 8,
   "outputs": [
    {
     "output_type": "display_data",
     "data": {
      "text/plain": [
       "<Figure size 1200x500 with 2 Axes>"
      ],
      "image/png": "[encoded data removed]"
     },
     "metadata": {}
    }
   ]
  },
  {
   "cell_type": "code",
   "source": [],
   "metadata": {
    "id": "xvIbrk7UYMx8"
   },
   "execution_count": null,
   "outputs": []
  }
 ]
}
